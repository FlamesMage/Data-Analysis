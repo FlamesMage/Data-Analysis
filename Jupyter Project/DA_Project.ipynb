{
 "cells": [
  {
   "cell_type": "markdown",
   "id": "a5b78580-a83e-4f70-8ef1-719cc65e2a45",
   "metadata": {},
   "source": [
    "# Maximizing Profits: Analyzing Top Earning Apps in the App Store and Google Play Markets\n",
    "\n",
    "The aim of this project is to find the mobile app profiles that are profitable for the App Store and Google Play markets. Working as a data analyst for a company that builds Android and iOS mobile apps, my job is to enable my team of developers to make data-driven decisions with respect to the kind of apps they build.\n",
    "\n",
    "The company only builds apps that are free to download and install, relying primarily on in-app ads for revenue. Therefore, the success of our apps is highly dependent on the number of users. This project helps our developers understand apps that are most likely to attract more users.\n",
    "\n",
    "## Opening and Exploring the Data\n",
    "\n",
    "Two datasets are explored in this project\n",
    "* [A data set](https://www.kaggle.com/datasets/lava18/google-play-store-apps) containing data about approximately ten thousand Android apps from Google Play.\n",
    "* [A data set](https://www.kaggle.com/datasets/ramamet4/app-store-apple-data-set-10k-apps) containing data about approximately seven thousand iOS apps from the App Store.\n",
    "\n",
    "The data sets are opened below"
   ]
  },
  {
   "cell_type": "code",
   "execution_count": 2,
   "id": "90c0ac6f-6930-4683-bfad-001550de54e0",
   "metadata": {},
   "outputs": [
    {
     "name": "stdout",
     "output_type": "stream",
     "text": [
      "['App', 'Category', 'Rating', 'Reviews', 'Size', 'Installs', 'Type', 'Price', 'Content Rating', 'Genres', 'Last Updated', 'Current Ver', 'Android Ver']\n",
      "\n",
      "\n",
      "['id', 'track_name', 'size_bytes', 'currency', 'price', 'rating_count_tot', 'rating_count_ver', 'user_rating', 'user_rating_ver', 'ver', 'cont_rating', 'prime_genre', 'sup_devices.num', 'ipadSc_urls.num', 'lang.num', 'vpp_lic']\n"
     ]
    }
   ],
   "source": [
    "#Links to the data sets are included above\n",
    "def open_dataset(file_path): #Function opens and reads data set. Returns dataset header and body as a tuple\n",
    "    opened_file = open(file_path, encoding=\"utf-8\")\n",
    "    from csv import reader\n",
    "    read_file = reader(opened_file)\n",
    "    data = list(read_file)\n",
    "    data_header = data[0]\n",
    "    data = data[1:]\n",
    "    return data_header, data\n",
    "    \n",
    "## The Google Play Data set ##\n",
    "android_header, android = open_dataset(\"C:/Users/okwuo/OneDrive/Desktop/My_Datasets/googleplaystore.csv\")\n",
    "\n",
    "## The App Store data set ## \n",
    "ios_header, ios = open_dataset(\"C:/Users/okwuo/OneDrive/Desktop/My_Datasets/AppleStore.csv\")\n",
    "\n",
    "print(android_header)\n",
    "print('\\n')\n",
    "print(ios_header)"
   ]
  },
  {
   "cell_type": "markdown",
   "id": "3d56b25a-5f8b-44e1-ab3d-4965f5d4a671",
   "metadata": {},
   "source": [
    "The function below makes it easier to explore the data sets by make rows more readable. Included in the function is an option to show the number of rows and columns of any data set."
   ]
  },
  {
   "cell_type": "code",
   "execution_count": 4,
   "id": "a51f143d-fa05-4d93-b0e6-572525d72464",
   "metadata": {},
   "outputs": [
    {
     "name": "stdout",
     "output_type": "stream",
     "text": [
      "['App', 'Category', 'Rating', 'Reviews', 'Size', 'Installs', 'Type', 'Price', 'Content Rating', 'Genres', 'Last Updated', 'Current Ver', 'Android Ver']\n",
      "\n",
      "\n",
      "['Photo Editor & Candy Camera & Grid & ScrapBook', 'ART_AND_DESIGN', '4.1', '159', '19M', '10,000+', 'Free', '0', 'Everyone', 'Art & Design', 'January 7, 2018', '1.0.0', '4.0.3 and up']\n",
      "\n",
      "\n",
      "['Coloring book moana', 'ART_AND_DESIGN', '3.9', '967', '14M', '500,000+', 'Free', '0', 'Everyone', 'Art & Design;Pretend Play', 'January 15, 2018', '2.0.0', '4.0.3 and up']\n",
      "\n",
      "\n",
      "['U Launcher Lite – FREE Live Cool Themes, Hide Apps', 'ART_AND_DESIGN', '4.7', '87510', '8.7M', '5,000,000+', 'Free', '0', 'Everyone', 'Art & Design', 'August 1, 2018', '1.2.4', '4.0.3 and up']\n",
      "\n",
      "\n",
      "Number of rows: 10841\n",
      "Number of columns: 13\n",
      "\n",
      "\n"
     ]
    }
   ],
   "source": [
    "def explore_data(dataset, start, end, rows_and_columns=False):\n",
    "    dataset_slice = dataset[start:end]\n",
    "    for row in dataset_slice:\n",
    "        print(row)\n",
    "        print('\\n') #adds a new line between rows\n",
    "\n",
    "    if rows_and_columns:\n",
    "        print('Number of rows:', len(dataset))\n",
    "        print('Number of columns:', len(dataset[0]))\n",
    "        \n",
    "print(android_header)\n",
    "print('\\n')\n",
    "explore_data(android, 0, 3, True)\n",
    "\n",
    "print('\\n')\n"
   ]
  },
  {
   "cell_type": "markdown",
   "id": "2a84c237-aff3-41f4-8bed-eae1fe495143",
   "metadata": {},
   "source": [
    "The output shows the Google Play data set has 10,841 apps and 13 columns. The useful columns for this project are 'App', 'Category', 'Reviews', 'Installs', 'Type', 'Price', and 'Genres'.\n",
    "\n",
    "App Store data set is explored below"
   ]
  },
  {
   "cell_type": "code",
   "execution_count": 6,
   "id": "c1dc6954-5de6-482a-b913-27010b9aaaa1",
   "metadata": {},
   "outputs": [
    {
     "name": "stdout",
     "output_type": "stream",
     "text": [
      "['id', 'track_name', 'size_bytes', 'currency', 'price', 'rating_count_tot', 'rating_count_ver', 'user_rating', 'user_rating_ver', 'ver', 'cont_rating', 'prime_genre', 'sup_devices.num', 'ipadSc_urls.num', 'lang.num', 'vpp_lic']\n",
      "\n",
      "\n",
      "['284882215', 'Facebook', '389879808', 'USD', '0.0', '2974676', '212', '3.5', '3.5', '95.0', '4+', 'Social Networking', '37', '1', '29', '1']\n",
      "\n",
      "\n",
      "['389801252', 'Instagram', '113954816', 'USD', '0.0', '2161558', '1289', '4.5', '4.0', '10.23', '12+', 'Photo & Video', '37', '0', '29', '1']\n",
      "\n",
      "\n",
      "['529479190', 'Clash of Clans', '116476928', 'USD', '0.0', '2130805', '579', '4.5', '4.5', '9.24.12', '9+', 'Games', '38', '5', '18', '1']\n",
      "\n",
      "\n",
      "Number of rows: 7197\n",
      "Number of columns: 16\n"
     ]
    }
   ],
   "source": [
    "print(ios_header)\n",
    "print('\\n')\n",
    "explore_data(ios, 0, 3, True)"
   ]
  },
  {
   "cell_type": "markdown",
   "id": "aa4a9411-ff87-4988-b7eb-4b8fccbb01cc",
   "metadata": {},
   "source": [
    "The output shows the App Store data set has 7,197 apps and 16 columns. The useful columns are 'track_name', 'currency', 'price', 'rating_count_tot', 'rating_count_ver', and 'prime_genre'. Details about each column can be found in the data set [documentation](https://www.kaggle.com/datasets/ramamet4/app-store-apple-data-set-10k-apps)."
   ]
  },
  {
   "cell_type": "markdown",
   "id": "028129aa-162b-47f0-9cef-eaca1a803f68",
   "metadata": {},
   "source": [
    "# Cleaning the Data Sets\n",
    "\n",
    "## Deleting Wrong Data\n",
    "[One of the discussions](https://www.kaggle.com/datasets/lava18/google-play-store-apps/discussion/66015) on the Google Play data set [discussion section](https://www.kaggle.com/datasets/lava18/google-play-store-apps/discussion?sort=undefined) outlines an error for row 10472. \n",
    "The output for this row returns \n",
    "\n",
    "`'Life Made WI-Fi Touchscreen Photo Frame', '1.9', '19', '3.0M', '1,000+', 'Free', '0', 'Everyone', '', 'February 11, 2018', '1.0.19', '4.0 and up'`\n",
    "Comparing it to other rows, we see that this row is missing a value in the 'Category' column. As a consequence, this row will be deleted from the data set."
   ]
  },
  {
   "cell_type": "code",
   "execution_count": 9,
   "id": "60d2d11b-ae73-4e65-bfe2-536c74e85384",
   "metadata": {},
   "outputs": [
    {
     "name": "stdout",
     "output_type": "stream",
     "text": [
      "10841\n",
      "10840\n"
     ]
    }
   ],
   "source": [
    "print(len(android))\n",
    "del android[10472]\n",
    "print(len(android))"
   ]
  },
  {
   "cell_type": "markdown",
   "id": "0290aa1a-6844-4f6e-964a-f228a14dc3a0",
   "metadata": {},
   "source": [
    "## Removing Duplicate Entries\n",
    "\n",
    "After exploring the Google Play data set, it becomes apparent that some of the apps have more than one entry. For example, the Instagram application has four entries:"
   ]
  },
  {
   "cell_type": "code",
   "execution_count": 11,
   "id": "3c7abda8-f0f5-451e-9608-75ed4e604618",
   "metadata": {},
   "outputs": [
    {
     "name": "stdout",
     "output_type": "stream",
     "text": [
      "['Instagram', 'SOCIAL', '4.5', '66577313', 'Varies with device', '1,000,000,000+', 'Free', '0', 'Teen', 'Social', 'July 31, 2018', 'Varies with device', 'Varies with device']\n",
      "['Instagram', 'SOCIAL', '4.5', '66577446', 'Varies with device', '1,000,000,000+', 'Free', '0', 'Teen', 'Social', 'July 31, 2018', 'Varies with device', 'Varies with device']\n",
      "['Instagram', 'SOCIAL', '4.5', '66577313', 'Varies with device', '1,000,000,000+', 'Free', '0', 'Teen', 'Social', 'July 31, 2018', 'Varies with device', 'Varies with device']\n",
      "['Instagram', 'SOCIAL', '4.5', '66509917', 'Varies with device', '1,000,000,000+', 'Free', '0', 'Teen', 'Social', 'July 31, 2018', 'Varies with device', 'Varies with device']\n",
      "4\n"
     ]
    }
   ],
   "source": [
    "count = 0\n",
    "for app in android:\n",
    "    name = app[0]\n",
    "    if name == 'Instagram':\n",
    "        print(app)\n",
    "        count += 1\n",
    "\n",
    "print(count)"
   ]
  },
  {
   "cell_type": "markdown",
   "id": "8031bb32-c155-40d6-b955-9dcc68da86fd",
   "metadata": {},
   "source": [
    "The function below counts the total number of duplicate cases "
   ]
  },
  {
   "cell_type": "code",
   "execution_count": 13,
   "id": "54068d1a-613c-4250-b16d-8e633f470a1c",
   "metadata": {},
   "outputs": [
    {
     "name": "stdout",
     "output_type": "stream",
     "text": [
      "Number of duplicate apps: 1181\n",
      "\n",
      "\n",
      "Examples of duplicate apps: \n",
      " ['Quick PDF Scanner + OCR FREE', 'Box', 'Google My Business', 'ZOOM Cloud Meetings', 'join.me - Simple Meetings', 'Box', 'Zenefits', 'Google Ads', 'Google My Business', 'Slack', 'FreshBooks Classic', 'Insightly CRM', 'QuickBooks Accounting: Invoicing & Expenses', 'HipChat - Chat Built for Teams', 'Xero Accounting Software']\n"
     ]
    }
   ],
   "source": [
    "def count_duplicate(dataset, index):\n",
    "    duplicate_apps =[]\n",
    "    unique_apps = []\n",
    "    \n",
    "    for row in dataset:\n",
    "        name = row[index]\n",
    "        if name in unique_apps:\n",
    "            duplicate_apps.append(name)\n",
    "        else:\n",
    "            unique_apps.append(name)\n",
    "\n",
    "    print(\"Number of duplicate apps:\", len(duplicate_apps))\n",
    "    print('\\n')\n",
    "    print(\"Examples of duplicate apps:\", '\\n', duplicate_apps[:15])\n",
    "\n",
    "count_duplicate(android, 0)"
   ]
  },
  {
   "cell_type": "markdown",
   "id": "829fc20a-004f-4a40-812b-3971b1f7e7bc",
   "metadata": {},
   "source": [
    "From the code above, we see there are 1,181 cases where an app has been entered more than once.\n",
    "\n",
    "Examining the rows, the main differnece between duplicate apps is noted on the fourth column (the 'Rating' column). The different numbers show that the data was collected at different times. For a more reliable rating, the dupliacte app with the higher number of reviews will be stored.\n",
    " \n",
    "To do that, we:\n",
    "* Create a dictionary where each key is a unique app name, and the value is the highest number of reviews for said app\n",
    "* Use the dictionary to create a new data set which will have only one entry of the app with the most review"
   ]
  },
  {
   "cell_type": "code",
   "execution_count": 15,
   "id": "7717f453-1ae8-40a4-b51c-49676ae60509",
   "metadata": {},
   "outputs": [
    {
     "name": "stdout",
     "output_type": "stream",
     "text": [
      "9659\n"
     ]
    }
   ],
   "source": [
    "max_review = {}\n",
    "\n",
    "for app in android:\n",
    "    name = app[0]\n",
    "    n_review = float(app[3])\n",
    "\n",
    "    if name in max_review and max_review[name] < n_review:\n",
    "        max_review[name] = n_review\n",
    "\n",
    "    elif name not in max_review:\n",
    "        max_review[name] = n_review\n",
    "\n",
    "print(len(max_review))"
   ]
  },
  {
   "cell_type": "markdown",
   "id": "9cdcc5d2-32a1-4171-86d5-23c2e0dbcff3",
   "metadata": {},
   "source": [
    "Earlier on, we found out there are 1,181 cases of duplicated apps. Therefore, the expected length of the dictionary should equal the difference between the length of the data set and 1,181 (i.e. 10840 - 1181 = 9659).\n",
    "\n",
    "In the code below:\n",
    "\n",
    "* Two empty lists, `android_clean` and `already_added`, are initialised.\n",
    "* `android` data set is looped through, and for each iteration:\n",
    "  * extract app name and number of reviews.\n",
    "  * add current row (app) to the `android_clean` list and the app name (name) to the `already_added` list if:\n",
    "     * The number of reviws of the cuurent app matches the number of review of said app as described in the `max_review` dictionary and\n",
    "     * The name of the app is not in the `already_added` list. "
   ]
  },
  {
   "cell_type": "code",
   "execution_count": 17,
   "id": "bdbf2a50-bb0b-4308-90d3-346e57104c63",
   "metadata": {},
   "outputs": [
    {
     "name": "stdout",
     "output_type": "stream",
     "text": [
      "['Photo Editor & Candy Camera & Grid & ScrapBook', 'ART_AND_DESIGN', '4.1', '159', '19M', '10,000+', 'Free', '0', 'Everyone', 'Art & Design', 'January 7, 2018', '1.0.0', '4.0.3 and up']\n",
      "\n",
      "\n",
      "['U Launcher Lite – FREE Live Cool Themes, Hide Apps', 'ART_AND_DESIGN', '4.7', '87510', '8.7M', '5,000,000+', 'Free', '0', 'Everyone', 'Art & Design', 'August 1, 2018', '1.2.4', '4.0.3 and up']\n",
      "\n",
      "\n",
      "['Sketch - Draw & Paint', 'ART_AND_DESIGN', '4.5', '215644', '25M', '50,000,000+', 'Free', '0', 'Teen', 'Art & Design', 'June 8, 2018', 'Varies with device', '4.2 and up']\n",
      "\n",
      "\n",
      "Number of rows: 9659\n",
      "Number of columns: 13\n"
     ]
    }
   ],
   "source": [
    "android_clean =[]\n",
    "already_added =[]\n",
    "\n",
    "for app in android:\n",
    "    name = app[0]\n",
    "    n_review = float(app[3])\n",
    "\n",
    "    if (max_review[name] == n_review) and (name not in already_added):\n",
    "        android_clean.append(app)\n",
    "        already_added.append(name) #Keeps track of app names to avoid dupliactes.\n",
    "\n",
    "explore_data(android_clean, 0, 3, True)"
   ]
  },
  {
   "cell_type": "markdown",
   "id": "c42ee997-ccab-42b7-bb15-1b3238372f11",
   "metadata": {},
   "source": [
    "`9659 rows`, just as expected\n",
    "\n",
    "\n",
    "# Removing Non-English Apps\n",
    "\n",
    "The names of some of the apps in the data set suggest said apps are not directed towards an English-speaking audience.\n"
   ]
  },
  {
   "cell_type": "code",
   "execution_count": 19,
   "id": "a21b7a9a-692a-47ae-ba4c-75701b60fb4f",
   "metadata": {},
   "outputs": [
    {
     "name": "stdout",
     "output_type": "stream",
     "text": [
      "爱奇艺PPS -《欢乐颂2》电视剧热播\n",
      "【脱出ゲーム】絶対に最後までプレイしないで 〜謎解き＆ブロックパズル〜\n",
      "中国語 AQリスニング\n",
      "لعبة تقدر تربح DZ\n"
     ]
    }
   ],
   "source": [
    "print(ios[813][1])\n",
    "print(ios[6731][1])\n",
    "\n",
    "print(android_clean[4412][0])\n",
    "print(android_clean[7940][0])"
   ]
  },
  {
   "cell_type": "markdown",
   "id": "93fbc059-4e72-4fb1-9d3a-5c2d0c89f292",
   "metadata": {},
   "source": [
    "Characters that are specific to English texts are encoded using the ASCII standard. Each ASCII character has a corresponding number between 0 and 127 associated with it. Utilisng a built-in function `ord()`, a function, `is_english()`, that checks an app name for non-ASCII characters is built below.\n",
    "\n",
    "**Note: English app names use emojis or other symbols (™, —, etc.) that fall outside of the ASCII range. To minimize the impact of data loss, app names with more than three non-ASCII characters are removed.**"
   ]
  },
  {
   "cell_type": "code",
   "execution_count": 21,
   "id": "c3cb8cde-a97f-4aef-9001-5a8100c10f49",
   "metadata": {},
   "outputs": [],
   "source": [
    "def is_english(string):\n",
    "    non_ascii = 0\n",
    "    for character in string:\n",
    "        if ord(character) > 127:\n",
    "            non_ascii+=1\n",
    "    \n",
    "    if non_ascii >3:    \n",
    "        return False\n",
    "    else:\n",
    "        return True"
   ]
  },
  {
   "cell_type": "markdown",
   "id": "d8a0049e-7cec-4061-9a30-ed716fb3c9ff",
   "metadata": {},
   "source": [
    "\n",
    "Below, we use the `is_english()` function to filter out the non-English apps for both data sets"
   ]
  },
  {
   "cell_type": "code",
   "execution_count": 23,
   "id": "616b19e3-def1-495f-b2b1-e417b7229c39",
   "metadata": {},
   "outputs": [
    {
     "name": "stdout",
     "output_type": "stream",
     "text": [
      "English Apps for the Android Dataset\n",
      "Number of rows: 9614\n",
      "Number of columns: 13\n",
      "\n",
      "\n",
      "English Apps for the iOS Dataset\n",
      "Number of rows: 6183\n",
      "Number of columns: 16\n"
     ]
    }
   ],
   "source": [
    "android_english = []\n",
    "ios_english = []\n",
    "\n",
    "for app in android_clean:\n",
    "    name = app[0]\n",
    "    if is_english(name):\n",
    "        android_english.append(app)\n",
    "\n",
    "for app in ios:\n",
    "    name = app[1]\n",
    "    if is_english(name):\n",
    "        ios_english.append(app)\n",
    "        \n",
    "print('English Apps for the Android Dataset')\n",
    "explore_data(android_english, 0, 0, True)\n",
    "print('\\n')\n",
    "print('English Apps for the iOS Dataset')\n",
    "explore_data(ios_english, 0, 0, True)"
   ]
  },
  {
   "cell_type": "markdown",
   "id": "03ed22e8-f751-4d5f-ac51-e279eb20fa2d",
   "metadata": {},
   "source": [
    "# Isolating Free Apps\n",
    "\n",
    "Both data sets contain free and non-free apps, as the company only builds apps that are free, the free apps need to be isolated for analysis. This will be the final step in the data cleaning process."
   ]
  },
  {
   "cell_type": "code",
   "execution_count": 25,
   "id": "c0d3ba3e-5a17-403a-bf0d-f0ed26f8164c",
   "metadata": {},
   "outputs": [
    {
     "name": "stdout",
     "output_type": "stream",
     "text": [
      "Free Apps for the Android Dataset\n",
      "['Photo Editor & Candy Camera & Grid & ScrapBook', 'ART_AND_DESIGN', '4.1', '159', '19M', '10,000+', 'Free', '0', 'Everyone', 'Art & Design', 'January 7, 2018', '1.0.0', '4.0.3 and up']\n",
      "\n",
      "\n",
      "['U Launcher Lite – FREE Live Cool Themes, Hide Apps', 'ART_AND_DESIGN', '4.7', '87510', '8.7M', '5,000,000+', 'Free', '0', 'Everyone', 'Art & Design', 'August 1, 2018', '1.2.4', '4.0.3 and up']\n",
      "\n",
      "\n",
      "['Sketch - Draw & Paint', 'ART_AND_DESIGN', '4.5', '215644', '25M', '50,000,000+', 'Free', '0', 'Teen', 'Art & Design', 'June 8, 2018', 'Varies with device', '4.2 and up']\n",
      "\n",
      "\n",
      "Number of rows: 8864\n",
      "Number of columns: 13\n",
      "\n",
      "\n",
      "Free Apps for the iOS Dataset\n",
      "['284882215', 'Facebook', '389879808', 'USD', '0.0', '2974676', '212', '3.5', '3.5', '95.0', '4+', 'Social Networking', '37', '1', '29', '1']\n",
      "\n",
      "\n",
      "['389801252', 'Instagram', '113954816', 'USD', '0.0', '2161558', '1289', '4.5', '4.0', '10.23', '12+', 'Photo & Video', '37', '0', '29', '1']\n",
      "\n",
      "\n",
      "['529479190', 'Clash of Clans', '116476928', 'USD', '0.0', '2130805', '579', '4.5', '4.5', '9.24.12', '9+', 'Games', '38', '5', '18', '1']\n",
      "\n",
      "\n",
      "Number of rows: 3222\n",
      "Number of columns: 16\n"
     ]
    }
   ],
   "source": [
    "android_final = []\n",
    "ios_final = []\n",
    "\n",
    "for row in android_english:\n",
    "    price = row[7]\n",
    "    if price == '0':\n",
    "        android_final.append(row)\n",
    "\n",
    "for row in ios_english:\n",
    "    price = row[4]\n",
    "    if price == '0.0':\n",
    "        ios_final.append(row)\n",
    "\n",
    "print('Free Apps for the Android Dataset')\n",
    "explore_data(android_final, 0, 3, True)\n",
    "print('\\n')\n",
    "print('Free Apps for the iOS Dataset')\n",
    "explore_data(ios_final, 0, 3, True)"
   ]
  },
  {
   "cell_type": "markdown",
   "id": "b9001bfa-5789-462d-93ee-4ddcccab1a4a",
   "metadata": {},
   "source": [
    "\n",
    "# Most Common Apps by Genre:\n",
    "\n",
    "Because the company's revenue is highly influenced by the number of people using its apps, the goal is to determine the kinds of apps likely to attract more users.\n",
    "\n",
    "To minimize risks and overhead, our validation strategy for an app idea is comprised of three steps:\n",
    "\n",
    "* Build a minimal Android app version and add it to Google Play.\n",
    "* If the app has a good response from users, it will be developed further.\n",
    "* If the app is profitable after six months, an iOS version will be built and added to the App Store.\n",
    "  \n",
    "Because the goal is to add the app to the App Store and Google Play, it is important to identify app profiles that perform well on both platforms.\n",
    "\n",
    "The analysis will begin by examining the most common genres for each market. To achieve this, a frequency table will be built for the `prime_genre` column in the App Store dataset and the `'Category'` columns in the Google Play dataset."
   ]
  },
  {
   "cell_type": "code",
   "execution_count": 27,
   "id": "844101d0-a3c2-4330-950d-c19360392d28",
   "metadata": {},
   "outputs": [
    {
     "name": "stdout",
     "output_type": "stream",
     "text": [
      "Games : 58.16263190564867\n",
      "Entertainment : 7.883302296710118\n",
      "Photo & Video : 4.9658597144630665\n",
      "Education : 3.662321539416512\n",
      "Social Networking : 3.2898820608317814\n",
      "Shopping : 2.60707635009311\n",
      "Utilities : 2.5139664804469275\n",
      "Sports : 2.1415270018621975\n",
      "Music : 2.0484171322160147\n",
      "Health & Fitness : 2.0173805090006205\n",
      "Productivity : 1.7380509000620732\n",
      "Lifestyle : 1.5828677839851024\n",
      "News : 1.3345747982619491\n",
      "Travel : 1.2414649286157666\n",
      "Finance : 1.1173184357541899\n",
      "Weather : 0.8690254500310366\n",
      "Food & Drink : 0.8069522036002483\n",
      "Reference : 0.5586592178770949\n",
      "Business : 0.5276225946617008\n",
      "Book : 0.4345127250155183\n",
      "Navigation : 0.186219739292365\n",
      "Medical : 0.186219739292365\n",
      "Catalogs : 0.12414649286157665\n"
     ]
    }
   ],
   "source": [
    "def freq_table(dataset, index):\n",
    "    table = {}\n",
    "    total = 0\n",
    "\n",
    "    for row in dataset:\n",
    "        total += 1\n",
    "        genre = row[index]\n",
    "        if genre in table:\n",
    "            table[genre] += 1\n",
    "        else:\n",
    "            table[genre] = 1\n",
    "\n",
    "    table_percentages = {}\n",
    "    for key in table:\n",
    "        percentage = (table[key]/total) * 100\n",
    "        table_percentages[key] = percentage\n",
    "\n",
    "    return table_percentages\n",
    "\n",
    "def display_table(dataset, index):\n",
    "    table = freq_table(dataset, index)\n",
    "    table_display = []\n",
    "    for key in table:\n",
    "        value_key_pair = (table[key], key)\n",
    "        table_display.append(value_key_pair)\n",
    "\n",
    "    table_sorted = sorted(table_display, reverse = True) #Sort table in descending order\n",
    "    for entry in table_sorted:\n",
    "        print(entry[1], ':', entry[0])\n",
    "\n",
    "display_table(ios_final, 11) #prime_genre column iOS data set"
   ]
  },
  {
   "cell_type": "markdown",
   "id": "e257b7d4-0d32-4291-af83-5deb570cfd01",
   "metadata": {},
   "source": [
    "Among the free English apps, more than half (`58.16`%) fall into the games category. Entertainment apps account for approximately 8%, followed by photo and video apps at around 5%. Educational apps constitute only 3.66%, with social networking apps making up 3.29% of the data set.\n",
    "\n",
    "The distribution of app types suggests that the App Store, at least within the category of free English apps, is primarily composed of apps designed for entertainment purposes (games, entertainment, photo and video, social networking, sports, music, etc.). In contrast, apps with practical functions (education, shopping, utilities, productivity, lifestyle, etc.) are less common.  However, more entertainment-oriented apps do not necessarily indicate a greater number of users, as demand may not align with supply.\n",
    "\n",
    "\n",
    "An analysis of the `'Category'` columns in the Google Play data set is conducted below."
   ]
  },
  {
   "cell_type": "code",
   "execution_count": 29,
   "id": "b2a8f2a2-bb93-481f-8729-130895df7d62",
   "metadata": {},
   "outputs": [
    {
     "name": "stdout",
     "output_type": "stream",
     "text": [
      "FAMILY : 18.907942238267147\n",
      "GAME : 9.724729241877256\n",
      "TOOLS : 8.461191335740072\n",
      "BUSINESS : 4.591606498194946\n",
      "LIFESTYLE : 3.9034296028880866\n",
      "PRODUCTIVITY : 3.892148014440433\n",
      "FINANCE : 3.7003610108303246\n",
      "MEDICAL : 3.531137184115524\n",
      "SPORTS : 3.395758122743682\n",
      "PERSONALIZATION : 3.3167870036101084\n",
      "COMMUNICATION : 3.2378158844765346\n",
      "HEALTH_AND_FITNESS : 3.0798736462093865\n",
      "PHOTOGRAPHY : 2.944494584837545\n",
      "NEWS_AND_MAGAZINES : 2.7978339350180503\n",
      "SOCIAL : 2.6624548736462095\n",
      "TRAVEL_AND_LOCAL : 2.33528880866426\n",
      "SHOPPING : 2.2450361010830324\n",
      "BOOKS_AND_REFERENCE : 2.1435018050541514\n",
      "DATING : 1.861462093862816\n",
      "VIDEO_PLAYERS : 1.7937725631768955\n",
      "MAPS_AND_NAVIGATION : 1.3989169675090252\n",
      "FOOD_AND_DRINK : 1.2409747292418771\n",
      "EDUCATION : 1.1620036101083033\n",
      "ENTERTAINMENT : 0.9589350180505415\n",
      "LIBRARIES_AND_DEMO : 0.9363718411552346\n",
      "AUTO_AND_VEHICLES : 0.9250902527075812\n",
      "HOUSE_AND_HOME : 0.8235559566787004\n",
      "WEATHER : 0.8009927797833934\n",
      "EVENTS : 0.7107400722021661\n",
      "PARENTING : 0.6543321299638989\n",
      "ART_AND_DESIGN : 0.6430505415162455\n",
      "COMICS : 0.6204873646209386\n",
      "BEAUTY : 0.5979241877256317\n"
     ]
    }
   ],
   "source": [
    "display_table(android_final, 1) # Category column Android data set"
   ]
  },
  {
   "cell_type": "markdown",
   "id": "715a61c9-29a6-47bc-a2da-92c0dc9c4307",
   "metadata": {},
   "source": [
    "# Most Popular Apps by Genre\n",
    "\n",
    "Determining the most popular app genres (those with the highest number of users) can be achieved by calculating the average number of installs for each genre. In the Google Play data set, this information is available in the Installs column. However, the App Store data set lacks this information. As an alternative, the total number of user ratings serves as a proxy, with relevant data found in the rating_count_tot column.\n",
    "\n",
    "Below, the average number of user ratings per app genre on the App Store is calculated and sorted in decreasing order."
   ]
  },
  {
   "cell_type": "code",
   "execution_count": 31,
   "id": "a4d8640f-5712-4933-936b-c9fefbb0ca0d",
   "metadata": {},
   "outputs": [
    {
     "name": "stdout",
     "output_type": "stream",
     "text": [
      "Navigation : 86090.33333333333\n",
      "Reference : 74942.11111111111\n",
      "Social Networking : 71548.34905660378\n",
      "Music : 57326.530303030304\n",
      "Weather : 52279.892857142855\n",
      "Book : 39758.5\n",
      "Food & Drink : 33333.92307692308\n",
      "Finance : 31467.944444444445\n",
      "Photo & Video : 28441.54375\n",
      "Travel : 28243.8\n",
      "Shopping : 26919.690476190477\n",
      "Health & Fitness : 23298.015384615384\n",
      "Sports : 23008.898550724636\n",
      "Games : 22788.6696905016\n",
      "News : 21248.023255813954\n",
      "Productivity : 21028.410714285714\n",
      "Utilities : 18684.456790123455\n",
      "Lifestyle : 16485.764705882353\n",
      "Entertainment : 14029.830708661417\n",
      "Business : 7491.117647058823\n",
      "Education : 7003.983050847458\n",
      "Catalogs : 4004.0\n",
      "Medical : 612.0\n"
     ]
    }
   ],
   "source": [
    "genre_ios = freq_table(ios_final, -5)\n",
    "genre_ratings_list = []\n",
    "for genre in genre_ios:\n",
    "    total = 0\n",
    "    len_genre = 0\n",
    "    for app in ios_final:\n",
    "        genre_app = app[-5]\n",
    "        if genre_app == genre:\n",
    "            num_ratings = float(app[5])\n",
    "            total += num_ratings\n",
    "            len_genre += 1 \n",
    "            \n",
    "    avg_num_ratings = total / len_genre\n",
    "    genre_ratings_list.append((avg_num_ratings, genre))\n",
    "\n",
    "genre_ratings_sorted = sorted(genre_ratings_list, reverse = True)\n",
    "for entry in genre_ratings_sorted:\n",
    "    print(entry[1], ':', entry[0])"
   ]
  },
  {
   "cell_type": "markdown",
   "id": "329585a8-2b5d-45e7-9850-996659ae5a57",
   "metadata": {},
   "source": [
    "# A Deep Dive into The Popular Genres"
   ]
  },
  {
   "cell_type": "code",
   "execution_count": 33,
   "id": "671b6eec-92fc-42a1-99a0-d4bd5474d1a6",
   "metadata": {},
   "outputs": [
    {
     "name": "stdout",
     "output_type": "stream",
     "text": [
      "***** Top 5 Navigation apps *****\n",
      "Waze - GPS Navigation, Maps & Real-time Traffic : 345046 (66.8%)\n",
      "Google Maps - Navigation & Transit : 154911 (29.99%)\n",
      "Geocaching® : 12811 (2.48%)\n",
      "CoPilot GPS – Car Navigation & Offline Maps : 3582 (0.69%)\n",
      "ImmobilienScout24: Real Estate Search in Germany : 187 (0.04%)\n",
      "\n",
      "\n",
      "***** Top 5 Reference apps *****\n",
      "Bible : 985920 (73.09%)\n",
      "Dictionary.com Dictionary & Thesaurus : 200047 (14.83%)\n",
      "Dictionary.com Dictionary & Thesaurus for iPad : 54175 (4.02%)\n",
      "Google Translate : 26786 (1.99%)\n",
      "Muslim Pro: Ramadan 2017 Prayer Times, Azan, Quran : 18418 (1.37%)\n",
      "\n",
      "\n",
      "***** Top 5 Social Networking apps *****\n",
      "Facebook : 2974676 (39.22%)\n",
      "Pinterest : 1061624 (14.0%)\n",
      "Skype for iPhone : 373519 (4.93%)\n",
      "Messenger : 351466 (4.63%)\n",
      "Tumblr : 334293 (4.41%)\n",
      "\n",
      "\n",
      "***** Top 5 Music apps *****\n",
      "Pandora - Music & Radio : 1126879 (29.78%)\n",
      "Spotify Music : 878563 (23.22%)\n",
      "Shazam - Discover music, artists, videos & lyrics : 402925 (10.65%)\n",
      "iHeartRadio – Free Music & Radio Stations : 293228 (7.75%)\n",
      "SoundCloud - Music & Audio : 135744 (3.59%)\n",
      "\n",
      "\n"
     ]
    }
   ],
   "source": [
    "#The function shows the name and total users of the top 5 apps of a given genre in a given dataset.\n",
    "def top_apps_by_genre(dataset, genre, app_name_index, genre_index, tot_users_index, top_num = 5, percent = False):\n",
    "    genre_apps = []\n",
    "    total_users = 0\n",
    "    for app in dataset:\n",
    "        app_name = app[app_name_index]\n",
    "        app_genre = app[genre_index]\n",
    "        app_users = int(app[tot_users_index].replace(',','').replace('+','')) #Converts string with special characters to integers (e.g. 100,000+ to 100000)\n",
    "        \n",
    "        if app_genre == genre:\n",
    "            app_users_and_name = (app_users, app_name)\n",
    "            genre_apps.append(app_users_and_name)\n",
    "            total_users +=app_users\n",
    "\n",
    "    count = 0\n",
    "    print('*'*5, 'Top', top_num, genre, 'apps', '*'*5)\n",
    "\n",
    "    for app in sorted(genre_apps, reverse = True):\n",
    "        app_name = app[1]\n",
    "        app_users = app[0]\n",
    "        count += 1\n",
    "        if count > top_num:\n",
    "            print('\\n')\n",
    "            break\n",
    "        if percent == True:\n",
    "            if total_users != 0:\n",
    "                app_user_percentage = round((app_users / total_users) * 100,2)\n",
    "            else:\n",
    "                app_user_percent = 0\n",
    "                \n",
    "            print(app_name,':',app_users, '(' + str(app_user_percentage)+'%)') #Prints app name and total number of users as a count and percentage\n",
    "        else:\n",
    "            print(app_name,':',app_users)\n",
    "\n",
    "top_apps_by_genre(dataset = ios_final, genre=\"Navigation\", genre_index=-5, app_name_index=1, tot_users_index=5, percent=True)\n",
    "top_apps_by_genre(dataset = ios_final, genre=\"Reference\", genre_index=-5, app_name_index=1, tot_users_index=5, percent=True)\n",
    "top_apps_by_genre(dataset = ios_final, genre=\"Social Networking\", genre_index=-5, app_name_index=1, tot_users_index=5, percent=True)\n",
    "top_apps_by_genre(dataset = ios_final, genre=\"Music\", genre_index=-5, app_name_index=1, tot_users_index=5, percent=True)"
   ]
  },
  {
   "cell_type": "markdown",
   "id": "c9d1ad2d-6500-4c99-9cc0-af2c8cb4044a",
   "metadata": {},
   "source": [
    "The previous analysis identified navigation apps with the highest average number of user reviews. However, closer examination reveals that this figure is significantly influenced by Waze and Google Maps, which collectively account for nearly `97%` of the total reviews in the Navigation genre.\n",
    "\n",
    "The same pattern applies to social networking apps, where a few giants like Facebook, Pinterest, Skype, etc. heavily influence the average number. The same applies to music apps, where a few big players like Pandora, Spotify, and Shazam heavily influence the average number.\n",
    "\n",
    "`Reference` apps have 74,942 user ratings on average, but it is the Bible and Dictionary.com which skew up the average rating.\n",
    "\n",
    "Below are the top 5 `Book` apps:"
   ]
  },
  {
   "cell_type": "code",
   "execution_count": 35,
   "id": "5f999295-1c51-4e89-b08d-e041e87939ed",
   "metadata": {},
   "outputs": [
    {
     "name": "stdout",
     "output_type": "stream",
     "text": [
      "***** Top 5 Book apps *****\n",
      "Kindle – Read eBooks, Magazines & Textbooks : 252076 (45.29%)\n",
      "Audible – audio books, original series & podcasts : 105274 (18.91%)\n",
      "Color Therapy Adult Coloring Book for Adults : 84062 (15.1%)\n",
      "OverDrive – Library eBooks and Audiobooks : 65450 (11.76%)\n",
      "HOOKED - Chat Stories : 47829 (8.59%)\n",
      "\n",
      "\n"
     ]
    }
   ],
   "source": [
    "top_apps_by_genre(dataset = ios_final, genre=\"Book\", genre_index=-5, app_name_index=1, tot_users_index=5, percent=True)"
   ]
  },
  {
   "cell_type": "markdown",
   "id": "6e5e6544-78e5-4463-b931-bad016f6f491",
   "metadata": {},
   "source": [
    "This niche appears to have potential. Although Amazon holds 64.20% of the weight in the `Book` genre, the combined percent (35.45%) of the other apps shows promise. One approach involves creating an app that combines characteristics of the `Book` and `Reference` genres. This could be an eLibrary app with additional features beyond the basic text to enhance user retention. Possible enhancements include daily quotes, an audio version, and interactive quizzes related to in-app books. Additionally, integrating an in-app dictionary would allow users to look up words without needing to switch to an external application, keeping engagement within the app.\n",
    "\n",
    "Other popular genres include `Weather`, `Food & Drink`, and `Finance`.\n"
   ]
  },
  {
   "cell_type": "code",
   "execution_count": 37,
   "id": "b1ea1f65-303d-4c4e-8c7d-d53ef0552a38",
   "metadata": {},
   "outputs": [
    {
     "name": "stdout",
     "output_type": "stream",
     "text": [
      "***** Top 5 Weather apps *****\n",
      "The Weather Channel: Forecast, Radar & Alerts : 495626 (33.86%)\n",
      "The Weather Channel App for iPad – best local forecast, radar map, and storm tracking : 208648 (14.25%)\n",
      "WeatherBug - Local Weather, Radar, Maps, Alerts : 188583 (12.88%)\n",
      "MyRadar NOAA Weather Radar Forecast : 150158 (10.26%)\n",
      "AccuWeather - Weather for Life : 144214 (9.85%)\n",
      "\n",
      "\n",
      "***** Top 5 Food & Drink apps *****\n",
      "Starbucks : 303856 (35.06%)\n",
      "Domino's Pizza USA : 258624 (29.84%)\n",
      "OpenTable - Restaurant Reservations : 113936 (13.15%)\n",
      "Allrecipes Dinner Spinner : 109349 (12.62%)\n",
      "DoorDash - Food Delivery : 25947 (2.99%)\n",
      "\n",
      "\n",
      "***** Top 5 Finance apps *****\n",
      "Chase Mobile℠ : 233270 (20.59%)\n",
      "Mint: Personal Finance, Budget, Bills & Money : 232940 (20.56%)\n",
      "Bank of America - Mobile Banking : 119773 (10.57%)\n",
      "PayPal - Send and request money safely : 119487 (10.55%)\n",
      "Credit Karma: Free Credit Scores, Reports & Alerts : 101679 (8.98%)\n",
      "\n",
      "\n"
     ]
    }
   ],
   "source": [
    "top_apps_by_genre(dataset = ios_final, genre=\"Weather\", genre_index=-5, app_name_index=1, tot_users_index=5, percent=True)\n",
    "top_apps_by_genre(dataset = ios_final, genre=\"Food & Drink\", genre_index=-5, app_name_index=1, tot_users_index=5, percent=True)\n",
    "top_apps_by_genre(dataset = ios_final, genre=\"Finance\", genre_index=-5, app_name_index=1, tot_users_index=5, percent=True)"
   ]
  },
  {
   "cell_type": "markdown",
   "id": "b20301bf-fcdd-4097-b683-d13905076831",
   "metadata": {},
   "source": [
    "* Weather apps – Users typically spend minimal time within these apps, reducing the potential for generating revenue through in-app ads. Additionally, accessing reliable live weather data may require integration with paid APIs, increasing costs.  \n",
    "\n",
    "* Food and drink apps – Popular examples in this category include Starbucks, Dunkin' Donuts, and McDonald's. Developing a widely used food and drink app often involves aspects such as food preparation and delivery services, which fall outside the company's scope.  \n",
    "\n",
    "* Finance apps – facilitate banking, bill payments, and money transfers. Developing a finance app requires specialized domain knowledge, and hiring a financial expert solely for app development is not a viable option.\n",
    "\n",
    "\n",
    "# Most Popular Apps by Genre on Google Play"
   ]
  },
  {
   "cell_type": "markdown",
   "id": "ef847e1e-de96-4ea4-aaaa-3df54e2b4d5e",
   "metadata": {},
   "source": [
    "For the Google Play market, data on the number of installs is available, which should provide a clearer picture of genre popularity. However, the install numbers appear to lack precision, as most values are open-ended (e.g., 100+, 1,000+, 5,000+, etc.)."
   ]
  },
  {
   "cell_type": "code",
   "execution_count": 40,
   "id": "2aa9d3b0-4358-4e56-8ad4-13b63e08140e",
   "metadata": {},
   "outputs": [
    {
     "name": "stdout",
     "output_type": "stream",
     "text": [
      "1,000,000+ : 15.726534296028879\n",
      "100,000+ : 11.552346570397113\n",
      "10,000,000+ : 10.548285198555957\n",
      "10,000+ : 10.198555956678701\n",
      "1,000+ : 8.393501805054152\n",
      "100+ : 6.915613718411552\n",
      "5,000,000+ : 6.825361010830325\n",
      "500,000+ : 5.561823104693141\n",
      "50,000+ : 4.7721119133574\n",
      "5,000+ : 4.512635379061372\n",
      "10+ : 3.5424187725631766\n",
      "500+ : 3.2490974729241873\n",
      "50,000,000+ : 2.3014440433213\n",
      "100,000,000+ : 2.1322202166064983\n",
      "50+ : 1.917870036101083\n",
      "5+ : 0.78971119133574\n",
      "1+ : 0.5076714801444043\n",
      "500,000,000+ : 0.2707581227436823\n",
      "1,000,000,000+ : 0.22563176895306858\n",
      "0+ : 0.04512635379061372\n",
      "0 : 0.01128158844765343\n"
     ]
    }
   ],
   "source": [
    "display_table(android_final, 5) # the Installs column"
   ]
  },
  {
   "cell_type": "markdown",
   "id": "83aa0cf7-6e07-474f-8ffd-c365b24accf3",
   "metadata": {},
   "source": [
    "A limitation of this data is its lack of precision. For example, an app with 100,000+ installs could be 100,000, 200,000, or 350,000. However, precise data is not required for the current analysis, as the objective is to determine which app genres attract the most users, rather than achieving perfect accuracy regarding user numbers.\n",
    "\n",
    "The numbers will remain as they are, meaning that an app with 100,000+ installs will be treated as having 100,000 installs, and an app with 1,000,000+ installs will be considered to have 1,000,000 installs, and so on.\n",
    "\n",
    "To perform the necessary computations, each install number will be converted to a float.\n",
    "\n",
    "The conversion and subsequent calculation is carrried out below."
   ]
  },
  {
   "cell_type": "code",
   "execution_count": 42,
   "id": "45661209-8092-4dc1-8b81-0877ef28cd27",
   "metadata": {},
   "outputs": [
    {
     "name": "stdout",
     "output_type": "stream",
     "text": [
      "\n",
      "\n",
      "COMMUNICATION : 38456119.167247385\n",
      "VIDEO_PLAYERS : 24727872.452830188\n",
      "SOCIAL : 23253652.127118643\n",
      "PHOTOGRAPHY : 17840110.40229885\n",
      "PRODUCTIVITY : 16787331.344927534\n",
      "GAME : 15588015.603248259\n",
      "TRAVEL_AND_LOCAL : 13984077.710144928\n",
      "ENTERTAINMENT : 11640705.88235294\n",
      "TOOLS : 10801391.298666667\n",
      "NEWS_AND_MAGAZINES : 9549178.467741935\n",
      "BOOKS_AND_REFERENCE : 8767811.894736841\n",
      "SHOPPING : 7036877.311557789\n",
      "PERSONALIZATION : 5201482.6122448975\n",
      "WEATHER : 5074486.197183099\n",
      "HEALTH_AND_FITNESS : 4188821.9853479853\n",
      "MAPS_AND_NAVIGATION : 4056941.7741935486\n",
      "FAMILY : 3695641.8198090694\n",
      "SPORTS : 3638640.1428571427\n",
      "ART_AND_DESIGN : 1986335.0877192982\n",
      "FOOD_AND_DRINK : 1924897.7363636363\n",
      "EDUCATION : 1833495.145631068\n",
      "BUSINESS : 1712290.1474201474\n",
      "LIFESTYLE : 1437816.2687861272\n",
      "FINANCE : 1387692.475609756\n",
      "HOUSE_AND_HOME : 1331540.5616438356\n",
      "DATING : 854028.8303030303\n",
      "COMICS : 817657.2727272727\n",
      "AUTO_AND_VEHICLES : 647317.8170731707\n",
      "LIBRARIES_AND_DEMO : 638503.734939759\n",
      "PARENTING : 542603.6206896552\n",
      "BEAUTY : 513151.88679245283\n",
      "EVENTS : 253542.22222222222\n",
      "MEDICAL : 120550.61980830671\n"
     ]
    }
   ],
   "source": [
    "category_and_install_list = []\n",
    "category_android = freq_table(android_final, 1)\n",
    "for category in category_android:\n",
    "    total = 0\n",
    "    len_category = 0\n",
    "    for app in android_final:\n",
    "        category_app = app[1]\n",
    "        if category_app == category:\n",
    "            n_installs = app[5]\n",
    "            n_installs = n_installs.replace('+', '')\n",
    "            n_installs = n_installs.replace(',', '')\n",
    "            total += float(n_installs)\n",
    "            len_category += 1 \n",
    "    avg_n_installs = total / len_category\n",
    "    category_and_install_list.append((avg_n_installs, category))\n",
    "\n",
    "print('\\n')\n",
    "cat_install_sorted = sorted(category_and_install_list, reverse = True)\n",
    "for entry in cat_install_sorted:\n",
    "    print(entry[1], ':', entry[0])"
   ]
  },
  {
   "cell_type": "markdown",
   "id": "8b5f65f6-711a-47eb-b94c-ea55a767468a",
   "metadata": {},
   "source": [
    "# Deep Dive into Some of the Most Installed App Categories\n",
    "\n",
    "From the analysis above, communication apps have the highest installs on average: 38,456,119. \n",
    "\n",
    "Like the Social Network apps from the iOS data set, this number is inflated by a few apps."
   ]
  },
  {
   "cell_type": "code",
   "execution_count": 44,
   "id": "cec0b72d-69f9-4730-9e53-017d7d9b3d99",
   "metadata": {},
   "outputs": [
    {
     "name": "stdout",
     "output_type": "stream",
     "text": [
      "WhatsApp Messenger : 1,000,000,000+\n",
      "imo beta free calls and text : 100,000,000+\n",
      "Android Messages : 100,000,000+\n",
      "Google Duo - High Quality Video Calls : 500,000,000+\n",
      "Messenger – Text and Video Chat for Free : 1,000,000,000+\n",
      "imo free video calls and chat : 500,000,000+\n",
      "Skype - free IM & video calls : 1,000,000,000+\n",
      "Who : 100,000,000+\n",
      "GO SMS Pro - Messenger, Free Themes, Emoji : 100,000,000+\n",
      "LINE: Free Calls & Messages : 500,000,000+\n",
      "Google Chrome: Fast & Secure : 1,000,000,000+\n",
      "Firefox Browser fast & private : 100,000,000+\n",
      "UC Browser - Fast Download Private & Secure : 500,000,000+\n",
      "Gmail : 1,000,000,000+\n",
      "Hangouts : 1,000,000,000+\n",
      "Messenger Lite: Free Calls & Messages : 100,000,000+\n",
      "Kik : 100,000,000+\n",
      "KakaoTalk: Free Calls & Text : 100,000,000+\n",
      "Opera Mini - fast web browser : 100,000,000+\n",
      "Opera Browser: Fast and Secure : 100,000,000+\n",
      "Telegram : 100,000,000+\n",
      "Truecaller: Caller ID, SMS spam blocking & Dialer : 100,000,000+\n",
      "UC Browser Mini -Tiny Fast Private & Secure : 100,000,000+\n",
      "Viber Messenger : 500,000,000+\n",
      "WeChat : 100,000,000+\n",
      "Yahoo Mail – Stay Organized : 100,000,000+\n",
      "BBM - Free Calls & Messages : 100,000,000+\n",
      "\n",
      "\n",
      "There are 287 communication apps. 27 of those apps have over one hundred million installs\n"
     ]
    }
   ],
   "source": [
    "num_communication_apps = 0 #Counts number of apps in the Communication category\n",
    "count = 0 #Counts number of Communication apps with over 100 million installs\n",
    "total_comm_installs = 0 # Tracks total number of installs of Communication apps\n",
    "approx_installs = 0  #Tracks total installs of apps with over 100 million downloads\n",
    "        \n",
    "for app in android_final:\n",
    "    if app[1] == 'COMMUNICATION':\n",
    "        num_communication_apps+=1\n",
    "        n_comm_installs = app[5]\n",
    "        n_comm_installs = n_comm_installs.replace('+', '').replace(',', '')\n",
    "        total_comm_installs += float(n_comm_installs)\n",
    "        \n",
    "    if app[1] == 'COMMUNICATION' and (app[5] == '1,000,000,000+'\n",
    "                                      or app[5] == '500,000,000+'\n",
    "                                      or app[5] == '100,000,000+'):\n",
    "        print(app[0], ':',app[5])\n",
    "        approx_installs += int(app[5].replace('+', '').replace(',', ''))\n",
    "        count+=1\n",
    "        \n",
    "print('\\n')\n",
    "print('There are', num_communication_apps, 'communication apps.', count, 'of those apps have over one hundred million installs')        "
   ]
  },
  {
   "cell_type": "code",
   "execution_count": 45,
   "id": "311e512a-ec7d-41a5-a4ae-c9551d3cdbe4",
   "metadata": {},
   "outputs": [
    {
     "name": "stdout",
     "output_type": "stream",
     "text": [
      "Reduction factor: 11\n"
     ]
    }
   ],
   "source": [
    "remaining_installs = total_comm_installs - approx_installs\n",
    "avg_before = total_comm_installs / num_communication_apps\n",
    "avg_after = remaining_installs / (num_communication_apps - count)\n",
    "reduction_factor = avg_before / avg_after\n",
    "print('Reduction factor:', round(reduction_factor))\n"
   ]
  },
  {
   "cell_type": "markdown",
   "id": "2021996d-751f-4fcf-bcf6-2cc55f1e6cc6",
   "metadata": {},
   "source": [
    "If these 27 apps were removed, the average installs would be reduced approximately 11 times.\n",
    "\n",
    "The subsequent categories follow a similar pattern:"
   ]
  },
  {
   "cell_type": "markdown",
   "id": "8ecaaaf5-aa69-4de4-b4df-6b0211754daf",
   "metadata": {},
   "source": [
    "top_apps_by_genre(dataset = android_final, genre=\"VIDEO_PLAYERS\", genre_index=1, app_name_index=0, tot_users_index=5, percent=True)\n",
    "top_apps_by_genre(dataset = android_final, genre=\"SOCIAL\", genre_index=1, app_name_index=0, tot_users_index=5)\n",
    "top_apps_by_genre(dataset = android_final, genre=\"PHOTOGRAPHY\", genre_index=1, app_name_index=0, tot_users_index=5)\n",
    "top_apps_by_genre(dataset = android_final, genre=\"PRODUCTIVITY\", genre_index=1, app_name_index=0, tot_users_index=5)"
   ]
  },
  {
   "cell_type": "markdown",
   "id": "971a399f-64a8-4cf7-845a-fc7f769c58f2",
   "metadata": {},
   "source": [
    "* The video player category is dominated by apps like Youtube and Google Play Movies & TV\n",
    "* The social category by apps like Instagram, Google+ and Facebook\n",
    "* The photography category by apps like Google Photos and various photo editors\n",
    "* The productivity category by apps like Google Drive, MS Word, Google Calendar\n",
    "  \n",
    "These categories appear to be more popular than they actually are and are dominated by big companies that might be hard to compete with.\n",
    "\n",
    "\n",
    "As with the iOS data set, the books and reference category looks popular, with over 8,767,811 downloads.\n",
    "\n",
    "Below are some of the apps from this category and their number of installs:"
   ]
  },
  {
   "cell_type": "code",
   "execution_count": 49,
   "id": "2a20dde7-b448-4c21-8d5d-fc0c8045125f",
   "metadata": {},
   "outputs": [
    {
     "name": "stdout",
     "output_type": "stream",
     "text": [
      "E-Book Read - Read Book for free 50,000+\n",
      "Download free book with green book 100,000+\n",
      "Wikipedia 10,000,000+\n",
      "Cool Reader 10,000,000+\n",
      "Free Panda Radio Music 100,000+\n",
      "Book store 1,000,000+\n",
      "FBReader: Favorite Book Reader 10,000,000+\n",
      "English Grammar Complete Handbook 500,000+\n",
      "Free Books - Spirit Fanfiction and Stories 1,000,000+\n",
      "Google Play Books 1,000,000,000+\n",
      "AlReader -any text book reader 5,000,000+\n",
      "Offline English Dictionary 100,000+\n",
      "Offline: English to Tagalog Dictionary 500,000+\n",
      "FamilySearch Tree 1,000,000+\n",
      "Cloud of Books 1,000,000+\n",
      "Recipes of Prophetic Medicine for free 500,000+\n",
      "ReadEra – free ebook reader 1,000,000+\n",
      "Anonymous caller detection 10,000+\n",
      "Ebook Reader 5,000,000+\n",
      "Litnet - E-books 100,000+\n",
      "Read books online 5,000,000+\n",
      "English to Urdu Dictionary 500,000+\n",
      "eBoox: book reader fb2 epub zip 1,000,000+\n",
      "English Persian Dictionary 500,000+\n",
      "Flybook 500,000+\n",
      "All Maths Formulas 1,000,000+\n",
      "Ancestry 5,000,000+\n",
      "HTC Help 10,000,000+\n",
      "English translation from Bengali 100,000+\n",
      "Pdf Book Download - Read Pdf Book 100,000+\n",
      "Free Book Reader 100,000+\n",
      "eBoox new: Reader for fb2 epub zip books 50,000+\n",
      "Only 30 days in English, the guideline is guaranteed 500,000+\n",
      "Moon+ Reader 10,000,000+\n",
      "SH-02J Owner's Manual (Android 8.0) 50,000+\n",
      "English-Myanmar Dictionary 1,000,000+\n",
      "Golden Dictionary (EN-AR) 1,000,000+\n",
      "All Language Translator Free 1,000,000+\n",
      "Azpen eReader 500,000+\n",
      "URBANO V 02 instruction manual 100,000+\n",
      "Bible 100,000,000+\n",
      "C Programs and Reference 50,000+\n",
      "C Offline Tutorial 1,000+\n",
      "C Programs Handbook 50,000+\n",
      "Amazon Kindle 100,000,000+\n",
      "Aab e Hayat Full Novel 100,000+\n",
      "Aldiko Book Reader 10,000,000+\n",
      "Google I/O 2018 500,000+\n",
      "R Language Reference Guide 10,000+\n",
      "Learn R Programming Full 5,000+\n",
      "R Programing Offline Tutorial 1,000+\n",
      "Guide for R Programming 5+\n",
      "Learn R Programming 10+\n",
      "R Quick Reference Big Data 1,000+\n",
      "V Made 100,000+\n",
      "Wattpad 📖 Free Books 100,000,000+\n",
      "Dictionary - WordWeb 5,000,000+\n",
      "Guide (for X-MEN) 100,000+\n",
      "AC Air condition Troubleshoot,Repair,Maintenance 5,000+\n",
      "AE Bulletins 1,000+\n",
      "Ae Allah na Dai (Rasa) 10,000+\n",
      "50000 Free eBooks & Free AudioBooks 5,000,000+\n",
      "Ag PhD Field Guide 10,000+\n",
      "Ag PhD Deficiencies 10,000+\n",
      "Ag PhD Planting Population Calculator 1,000+\n",
      "Ag PhD Soybean Diseases 1,000+\n",
      "Fertilizer Removal By Crop 50,000+\n",
      "A-J Media Vault 50+\n",
      "Al-Quran (Free) 10,000,000+\n",
      "Al Quran (Tafsir & by Word) 500,000+\n",
      "Al Quran Indonesia 10,000,000+\n",
      "Al'Quran Bahasa Indonesia 10,000,000+\n",
      "Al Quran Al karim 1,000,000+\n",
      "Al-Muhaffiz 50,000+\n",
      "Al Quran : EAlim - Translations & MP3 Offline 5,000,000+\n",
      "Al-Quran 30 Juz free copies 500,000+\n",
      "Koran Read &MP3 30 Juz Offline 1,000,000+\n",
      "Hafizi Quran 15 lines per page 1,000,000+\n",
      "Quran for Android 10,000,000+\n",
      "Surah Al-Waqiah 100,000+\n",
      "Hisnul Al Muslim - Hisn Invocations & Adhkaar 100,000+\n",
      "Satellite AR 1,000,000+\n",
      "Audiobooks from Audible 100,000,000+\n",
      "Kinot & Eichah for Tisha B'Av 10,000+\n",
      "AW Tozer Devotionals - Daily 5,000+\n",
      "Tozer Devotional -Series 1 1,000+\n",
      "The Pursuit of God 1,000+\n",
      "AY Sing 5,000+\n",
      "Ay Hasnain k Nana Milad Naat 10,000+\n",
      "Ay Mohabbat Teri Khatir Novel 10,000+\n",
      "Arizona Statutes, ARS (AZ Law) 1,000+\n",
      "Oxford A-Z of English Usage 1,000,000+\n",
      "BD Fishpedia 1,000+\n",
      "BD All Sim Offer 10,000+\n",
      "Youboox - Livres, BD et magazines 500,000+\n",
      "B&H Kids AR 10,000+\n",
      "B y H Niños ES 5,000+\n",
      "Dictionary.com: Find Definitions for English Words 10,000,000+\n",
      "English Dictionary - Offline 10,000,000+\n",
      "Bible KJV 5,000,000+\n"
     ]
    }
   ],
   "source": [
    "limit = 100 #limits the number of apps printed\n",
    "for app in android_final:\n",
    "    if app[1] == 'BOOKS_AND_REFERENCE' and limit != 0:\n",
    "        print(app[0], app[5])\n",
    "        limit -= 1"
   ]
  },
  {
   "cell_type": "code",
   "execution_count": 50,
   "id": "8d5c8d04-ec9e-4cba-bab5-5b3615cf0e22",
   "metadata": {},
   "outputs": [
    {
     "name": "stdout",
     "output_type": "stream",
     "text": [
      "Google Play Books : 1,000,000,000+\n",
      "Bible : 100,000,000+\n",
      "Amazon Kindle : 100,000,000+\n",
      "Wattpad 📖 Free Books : 100,000,000+\n",
      "Audiobooks from Audible : 100,000,000+\n",
      "\n",
      "\n",
      "There are 190 book & reference apps. 5 of those apps have over one hundred million installs\n"
     ]
    }
   ],
   "source": [
    "num_book_apps = 0 \n",
    "count = 0 \n",
    "total_book_installs = 0 \n",
    "approx_installs = 0  \n",
    "        \n",
    "for app in android_final:\n",
    "    if app[1] == 'BOOKS_AND_REFERENCE':\n",
    "        num_book_apps+=1\n",
    "        n_book_installs = app[5].replace('+', '').replace(',', '')\n",
    "        total_book_installs += float(n_book_installs)\n",
    "        \n",
    "    if app[1] == 'BOOKS_AND_REFERENCE' and (app[5] == '1,000,000,000+'\n",
    "                                      or app[5] == '500,000,000+'\n",
    "                                      or app[5] == '100,000,000+'):\n",
    "        print(app[0], ':',app[5])\n",
    "        approx_installs += int(app[5].replace('+', '').replace(',', ''))\n",
    "        count+=1\n",
    "        \n",
    "print('\\n')\n",
    "print('There are', num_book_apps, 'book & reference apps.', count, 'of those apps have over one hundred million installs') "
   ]
  },
  {
   "cell_type": "code",
   "execution_count": 51,
   "id": "2e467dae-12d9-470f-93f4-9bd1c67e3900",
   "metadata": {},
   "outputs": [
    {
     "name": "stdout",
     "output_type": "stream",
     "text": [
      "Reduction factor: 6\n"
     ]
    }
   ],
   "source": [
    "remaining_installs = total_book_installs - approx_installs\n",
    "avg_before = total_book_installs / num_book_apps\n",
    "avg_after = remaining_installs / (num_book_apps - count)\n",
    "reduction_factor = avg_before / avg_after\n",
    "print('Reduction factor:', round(reduction_factor))"
   ]
  },
  {
   "cell_type": "markdown",
   "id": "36ce2ac2-1f60-4f88-9e50-0135a77f7c38",
   "metadata": {},
   "source": [
    "The apps in the book and reference genre are centered around various themes, from religious texts to tutorials to multiple versions of dictionaries and libraries. Despite some extremely popular apps (5 in 190 apps have over one million installs), the genre still shows potential.\n",
    "\n",
    "\n",
    "# Conclusion\n",
    "\n",
    "This project examined free and English apps from the iOS and Google Play stores to recommend a profitable app for both markets.\n",
    "\n",
    "The top 5 genres with the most apps on the iOS store were:\n",
    "* Games (58.16%)\n",
    "* Entertainment (7.88%)\n",
    "* Photo & Video (4.97%)\n",
    "* Education (3.66%)\n",
    "* Social Networking (3.29%)\n",
    "\n",
    "The top 5 on the Android store were:\n",
    "* Family (18.91%)\n",
    "* Game (9.72%)\n",
    "* Tools (8.46%)\n",
    "* Business (4.59%)\n",
    "* Lifestyle (3.90%)\n",
    "\n",
    "The top 5 most installed apps on the iOS store were:\n",
    "* Navigation (≈ 86,090.33 average installs)\n",
    "* Reference (≈ 74,942.11 average installs)\n",
    "* Social Networking (≈ 71,548.35 average installs)\n",
    "* Music (≈ 57,326.53 average installs)\n",
    "* Weather (≈ 52,279.89 average installs)\n",
    "\n",
    "The top 5 on the Android store were:\n",
    "* Communication (≈ 38,456,119.16 average installs)\n",
    "* Video Players (≈ 24,727,872.45 average installs)\n",
    "* Social (≈ 23,253,652.13 average installs)\n",
    "* Photography (≈ 17,840,110.40 average installs)\n",
    "* Productivity (≈ 16787331.34 average installs)\n",
    "\n",
    "Limitations for some of the high-ranking categories include:\n",
    "* Communication apps: Often dominated by a few major players (e.g., WhatsApp, Messenger, Telegram) with strong network effects, making it hard for new entrants to gain traction.\n",
    "  \n",
    "* Navigation: Requires constant access to GPS and mapping services, often through third-party APIs like Google Maps, which can be costly at scale\n",
    "   \n",
    "* Music and Video Player: Content relies on expensive and legally complex licensing deals.\n",
    "\n",
    "* Weather apps: Typically have low user engagement, which limits revenue opportunities from in-app ads.\n",
    "\n",
    "* Food & Drink apps: Successful apps in this category (e.g., Starbucks, McDonald's) rely on complex logistics and real-world services like food preparation and delivery.\n",
    "\n",
    "\n",
    "Overall analysis suggests an e-library app could be profitable in both the Google Play and Apple Store markets (The genre ranked 2nd and 11th in the Apple and Google Play stores respectively). Given the abundance of library apps, differentiation would require additional features beyond just adding a book as raw text. Potential enhancements include \n",
    "* creating tutorials and lore guides for popular games and media content\n",
    "* inserting daily quotes\n",
    "* adding audio versions in different languages\n",
    "* interactive quizzes\n",
    "* and a discussion forum for users to engage with the book's content and community.\n",
    "\n",
    "Avoiding categories with high technical, legal, or operational barriers and focusing instead on educational content with scalable engagement features, the book/reference genre presents a promising opportunity. It is well-positioned to attract a broad user base across both platforms while aligning with the company’s lean, low-risk development strategy."
   ]
  }
 ],
 "metadata": {
  "kernelspec": {
   "display_name": "Python [conda env:base] *",
   "language": "python",
   "name": "conda-base-py"
  },
  "language_info": {
   "codemirror_mode": {
    "name": "ipython",
    "version": 3
   },
   "file_extension": ".py",
   "mimetype": "text/x-python",
   "name": "python",
   "nbconvert_exporter": "python",
   "pygments_lexer": "ipython3",
   "version": "3.12.7"
  }
 },
 "nbformat": 4,
 "nbformat_minor": 5
}
